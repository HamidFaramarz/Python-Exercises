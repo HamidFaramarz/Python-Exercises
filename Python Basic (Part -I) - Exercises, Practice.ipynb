{
 "cells": [
  {
   "cell_type": "markdown",
   "metadata": {},
   "source": [
    "# Python Basic (Part : 1 - 10) - Exercises, Practice"
   ]
  },
  {
   "cell_type": "markdown",
   "metadata": {},
   "source": [
    "# Exercise 1\n",
    "#### Write a Python program to print the following string in a specific forma\n",
    "Twinkle, twinkle, little star,\n",
    "\tHow I wonder what you are! \n",
    "\t\tUp above the world so high,   \t\t\n",
    "\t\tLike a diamond in the sky. \n",
    "Twinkle, twinkle, little star, \n",
    "\tHow I wonder what you are"
   ]
  },
  {
   "cell_type": "code",
   "execution_count": 2,
   "metadata": {},
   "outputs": [
    {
     "name": "stdout",
     "output_type": "stream",
     "text": [
      "Twinkle, twinkle, little star, \n",
      "\t How I wonder what you are! \n",
      "\t\tUp above the world so high,\n",
      "\t\t Like a diamond in the sky.\n",
      " Twinkle, twinkle, little star,\n",
      "\t How I wonder what you are\n"
     ]
    }
   ],
   "source": [
    "print(\"Twinkle, twinkle, little star, \\n\\t How I wonder what you are! \\n\\t\\tUp above the world so high,\\n\\t\\t Like a diamond in the sky.\\n Twinkle, twinkle, little star,\\n\\t How I wonder what you are\")\n"
   ]
  },
  {
   "cell_type": "markdown",
   "metadata": {},
   "source": [
    "### Exercise - 2\n",
    "#### Write a Python program to get the Python version you are using."
   ]
  },
  {
   "cell_type": "code",
   "execution_count": 4,
   "metadata": {},
   "outputs": [
    {
     "name": "stdout",
     "output_type": "stream",
     "text": [
      "Python Version\n",
      "3.8.3 (default, Jul  2 2020, 17:30:36) [MSC v.1916 64 bit (AMD64)]\n",
      "Version info\n",
      "sys.version_info(major=3, minor=8, micro=3, releaselevel='final', serial=0)\n"
     ]
    }
   ],
   "source": [
    "import sys\n",
    "print(\"Python Version\")\n",
    "print(sys.version)\n",
    "print(\"Version info\")\n",
    "print(sys.version_info)"
   ]
  },
  {
   "cell_type": "code",
   "execution_count": 5,
   "metadata": {},
   "outputs": [
    {
     "name": "stdout",
     "output_type": "stream",
     "text": [
      "['C:\\\\Users\\\\Faramarz\\\\Documents\\\\Python programming\\\\exercise', 'C:\\\\Users\\\\Faramarz\\\\conda3\\\\python38.zip', 'C:\\\\Users\\\\Faramarz\\\\conda3\\\\DLLs', 'C:\\\\Users\\\\Faramarz\\\\conda3\\\\lib', 'C:\\\\Users\\\\Faramarz\\\\conda3', '', 'C:\\\\Users\\\\Faramarz\\\\AppData\\\\Roaming\\\\Python\\\\Python38\\\\site-packages', 'C:\\\\Users\\\\Faramarz\\\\conda3\\\\lib\\\\site-packages', 'C:\\\\Users\\\\Faramarz\\\\conda3\\\\lib\\\\site-packages\\\\win32', 'C:\\\\Users\\\\Faramarz\\\\conda3\\\\lib\\\\site-packages\\\\win32\\\\lib', 'C:\\\\Users\\\\Faramarz\\\\conda3\\\\lib\\\\site-packages\\\\Pythonwin', 'C:\\\\Users\\\\Faramarz\\\\conda3\\\\lib\\\\site-packages\\\\IPython\\\\extensions', 'C:\\\\Users\\\\Faramarz\\\\.ipython']\n"
     ]
    }
   ],
   "source": [
    "# path that python installed\n",
    "print(sys.path)"
   ]
  },
  {
   "cell_type": "code",
   "execution_count": 6,
   "metadata": {},
   "outputs": [
    {
     "name": "stdout",
     "output_type": "stream",
     "text": [
      "Copyright (c) 2001-2020 Python Software Foundation.\n",
      "All Rights Reserved.\n",
      "\n",
      "Copyright (c) 2000 BeOpen.com.\n",
      "All Rights Reserved.\n",
      "\n",
      "Copyright (c) 1995-2001 Corporation for National Research Initiatives.\n",
      "All Rights Reserved.\n",
      "\n",
      "Copyright (c) 1991-1995 Stichting Mathematisch Centrum, Amsterdam.\n",
      "All Rights Reserved.\n"
     ]
    }
   ],
   "source": [
    "# See python copyright interpreter\n",
    "print(sys.copyright)"
   ]
  },
  {
   "cell_type": "code",
   "execution_count": 9,
   "metadata": {},
   "outputs": [
    {
     "name": "stdout",
     "output_type": "stream",
     "text": [
      "10\n",
      "win32\n"
     ]
    }
   ],
   "source": [
    "# see the windows version in python\n",
    "print(sys.getwindowsversion().major)\n",
    "print(sys.platform)"
   ]
  },
  {
   "cell_type": "markdown",
   "metadata": {},
   "source": [
    "### 3. Write a Python program to display the current date and time.Current date and time :\n",
    "2022-09-05 08:28:32.725501"
   ]
  },
  {
   "cell_type": "code",
   "execution_count": 18,
   "metadata": {},
   "outputs": [
    {
     "name": "stdout",
     "output_type": "stream",
     "text": [
      "Current Datetime:\n",
      "2022-09-05 08:33:10.973590\n",
      "_______________________\n",
      "Print Individual\n",
      "5\n",
      "9\n",
      "2022-09-05 08:33:10.973590\n"
     ]
    }
   ],
   "source": [
    "import datetime\n",
    "now = datetime.datetime.now()\n",
    "print(\"Current Datetime:\")\n",
    "print(now)\n",
    "print(\"_______________________\")\n",
    "print(\"Print Individual\")\n",
    "print(now.day)\n",
    "print(now.month)\n",
    "print(now.today())"
   ]
  },
  {
   "cell_type": "code",
   "execution_count": 23,
   "metadata": {},
   "outputs": [
    {
     "name": "stdout",
     "output_type": "stream",
     "text": [
      "2022-September-05 Monday-08:33:10:AM\n"
     ]
    }
   ],
   "source": [
    "# create your own format\n",
    "print(now.strftime(\"%Y-%B-%d %A-%H:%M:%S:%p\"))"
   ]
  },
  {
   "cell_type": "markdown",
   "metadata": {},
   "source": [
    "### Exercise-4 \n",
    "#### Write a Python program which accepts the radius of a circle from the user and compute the area\n"
   ]
  },
  {
   "cell_type": "code",
   "execution_count": 24,
   "metadata": {},
   "outputs": [],
   "source": [
    "##NOTE\n",
    "# In geometry, the area enclosed by a circle of radius r is πr2. Here the Greek letter π\n",
    "#represents a constant, approximately equal to 3.14159, which is equal to the ratio of the\n",
    "#circumference of any circle to its diameter."
   ]
  },
  {
   "cell_type": "code",
   "execution_count": 27,
   "metadata": {},
   "outputs": [
    {
     "name": "stdout",
     "output_type": "stream",
     "text": [
      "Input the radius of the circle : 12.54\n",
      "the area of circle is : 494.02047132524063\n"
     ]
    }
   ],
   "source": [
    "from math import pi\n",
    "r = float(input(\"Input the radius of the circle : \"))\n",
    "formula = pi*r**2\n",
    "print(f\"the area of circle is : {formula}\")"
   ]
  },
  {
   "cell_type": "markdown",
   "metadata": {},
   "source": [
    "### Exercise-5\n",
    "#### Write a Python program which accepts the user's first and last name and print them in reverse order with a space between them."
   ]
  },
  {
   "cell_type": "code",
   "execution_count": 28,
   "metadata": {},
   "outputs": [
    {
     "name": "stdout",
     "output_type": "stream",
     "text": [
      "Type your first name: Hamid\n",
      "Type your last name: Faramarz\n",
      "Hello, Faramarz Hamid \n"
     ]
    }
   ],
   "source": [
    "First_Name = input(\"Type your first name: \")\n",
    "Last_Name = input(\"Type your last name: \")\n",
    "print(f'Hello, {Last_Name} {First_Name} ')"
   ]
  },
  {
   "cell_type": "markdown",
   "metadata": {},
   "source": [
    "### Exercise-6\n",
    "#### Write a Python program which accepts a sequence of comma-separated numbers from user and generate a list and a tuple with those numbers.\n",
    "\n"
   ]
  },
  {
   "cell_type": "code",
   "execution_count": 32,
   "metadata": {},
   "outputs": [
    {
     "name": "stdout",
     "output_type": "stream",
     "text": [
      "Enter some comma seprate number: 23,5,6,78,8\n",
      "List: ['23', '5', '6', '78', '8']\n",
      "Tuple: ('23', '5', '6', '78', '8')\n"
     ]
    }
   ],
   "source": [
    "values = input(\"Enter some comma seprate number: \")\n",
    "list1 = values.split(\",\")\n",
    "tuple1 = tuple(list1)\n",
    "print(f'List: {list1}')\n",
    "print(f'Tuple: {tuple1}')\n"
   ]
  },
  {
   "cell_type": "code",
   "execution_count": 34,
   "metadata": {},
   "outputs": [
    {
     "name": "stdout",
     "output_type": "stream",
     "text": [
      "Enter student's name with Comma sepraration: Hamid,Ali,Jahn\n",
      "['Hamid', 'Ali', 'Jahn']\n",
      "_____________________\n",
      "<class 'list'>\n"
     ]
    }
   ],
   "source": [
    "# continue on other example ........> split with comma\n",
    "student_name = input(\"Enter student's name with Comma sepraration: \")\n",
    "student_list = student_name.split(\",\")\n",
    "print(student_list)\n",
    "print(\"_____________________\")\n",
    "print(type(student_list))"
   ]
  },
  {
   "cell_type": "code",
   "execution_count": 35,
   "metadata": {},
   "outputs": [
    {
     "name": "stdout",
     "output_type": "stream",
     "text": [
      "Enter student's name with Comma sepraration: Fatima Ali Sarina\n",
      "['Fatima', 'Ali', 'Sarina']\n"
     ]
    }
   ],
   "source": [
    "# split with space\n",
    "student_name2 = input(\"Enter student's name with Comma sepraration: \")\n",
    "student_list2 = student_name2.split(\" \")\n",
    "print(student_list2)"
   ]
  },
  {
   "cell_type": "markdown",
   "metadata": {},
   "source": [
    "### Exercise-7 \n",
    "#### Write a Python program to accept a filename from the user and print the extension of that."
   ]
  },
  {
   "cell_type": "code",
   "execution_count": 37,
   "metadata": {},
   "outputs": [
    {
     "name": "stdout",
     "output_type": "stream",
     "text": [
      "Enter the file name with its extension: index.html\n",
      "the file extension is: 'html'\n"
     ]
    }
   ],
   "source": [
    "filename = input(\"Enter the file name with its extension: \")\n",
    "file_ex = filename.split(\".\")\n",
    "print(f'the file extension is: {repr(file_ex[-1])}')"
   ]
  },
  {
   "cell_type": "markdown",
   "metadata": {},
   "source": [
    "### Exercise-8\n",
    "#### Write a Python program to display the first and last colors from the following list.\n",
    "#### color_list = [\"Red\",\"Green\",\"White\" ,\"Black\"]"
   ]
  },
  {
   "cell_type": "code",
   "execution_count": 6,
   "metadata": {},
   "outputs": [
    {
     "name": "stdout",
     "output_type": "stream",
     "text": [
      "Red Black\n",
      "____________\n",
      "Red Black\n"
     ]
    }
   ],
   "source": [
    "color_list = [\"Red\",\"Green\",\"White\" ,\"Black\"]\n",
    "print(color_list[0], color_list[-1])\n",
    "# or\n",
    "print(\"____________\")\n",
    "print(\"%s %s\"% (color_list[0], color_list[-1]))\n"
   ]
  },
  {
   "cell_type": "markdown",
   "metadata": {},
   "source": [
    "### Exercise-9\n",
    "#### Write a Python program to display the examination schedule. (extract the date from exam_st_date)."
   ]
  },
  {
   "cell_type": "code",
   "execution_count": 14,
   "metadata": {},
   "outputs": [
    {
     "name": "stdout",
     "output_type": "stream",
     "text": [
      "the examination will start :11 /12 /2014\n",
      "the examination will start : 11 - 12 - 2014\n"
     ]
    }
   ],
   "source": [
    "exam_st_date = (11,12,2014)\n",
    "print(\"the examination will start :%i /%i /%i\"%exam_st_date)\n",
    "print(\"the examination will start : %i - %i - %i\"%exam_st_date) # the format changed it"
   ]
  },
  {
   "cell_type": "markdown",
   "metadata": {},
   "source": [
    "### Exercise-10\n",
    "#### Write a Python program that accepts an integer (n) and computes the value of n+nn+nnn.\n"
   ]
  },
  {
   "cell_type": "code",
   "execution_count": 18,
   "metadata": {},
   "outputs": [
    {
     "name": "stdout",
     "output_type": "stream",
     "text": [
      "Enter Intiger number: 5\n",
      "615\n"
     ]
    }
   ],
   "source": [
    "a = int(input(\"Enter Intiger number: \"))\n",
    "n1 = int( \"%s\" % a )\n",
    "n2 = int( \"%s%s\" % (a,a) )\n",
    "n3 = int( \"%s%s%s\" % (a,a,a) )\n",
    "print (n1+n2+n3)"
   ]
  }
 ],
 "metadata": {
  "kernelspec": {
   "display_name": "Python 3",
   "language": "python",
   "name": "python3"
  },
  "language_info": {
   "codemirror_mode": {
    "name": "ipython",
    "version": 3
   },
   "file_extension": ".py",
   "mimetype": "text/x-python",
   "name": "python",
   "nbconvert_exporter": "python",
   "pygments_lexer": "ipython3",
   "version": "3.8.3"
  }
 },
 "nbformat": 4,
 "nbformat_minor": 4
}
